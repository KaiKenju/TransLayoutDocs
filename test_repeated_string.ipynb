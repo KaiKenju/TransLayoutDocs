{
 "cells": [
  {
   "cell_type": "code",
   "execution_count": 94,
   "metadata": {},
   "outputs": [],
   "source": [
    "s = \"Lớp Kiểu Độ phức tạp trên lớp Độ phức tạp trên lớp Độ phức tạp trên lớp Độ phức tạp trên lớp Độ phức tạp tr ên lớp Độ phức tạp trên lớp Độ phức tạp trên lớp Độ phức tạp trên lớp Độ phức tạp trên lớp Độ phức tạp trên lớp Đ ộ phức tạp trên lớp Độ phức tạp trên lớp Độ phức tạp trên lớp Độ phức tạp trên lớp Độ phức tạp trên lớp Độ phức t ạp trên lớp Độ phức tạp trên lớp Độ phức tạp trên lớp Độ phức tạp trên lớp Độ phức tạp trên lớp Độ phức tạp trên lớp Độ phức tạp trên lớp Độ phức tạp trên lớp Độ phức tạp trên lớp Độ phức tạp trên lớp Độ phức tạp trên lớp Độ p hức tạp trên lớp Độ phức tạp trên lớp Độ phức tạp trên lớp Độ phức tạp trên lớp Độ phức tạp trên lớp Độ phức tạp trên lớp Độ phức tạp trên lớp Độ phức tạp trên lớp Độ phức tạp trên lớp Độ phức tạp trên lớp Độ phức tạp trên lớp Độ phức tạp trên lớp Độ phức tạp trên lớp Độ phức tạp trên lớp Độ phức tạp trên lớp Độ phức tạp trên lớp Độ phức tạp trên lớp Độ phức tạp trên lớp Độ phức tạp trên lớp Độ phức tạp trên lớp Độ phức tạp trên lớp Độ phức tạp trê n lớp Độ phức tạp trên lớp Độ phức tạp trên lớp Độ phức tạp trên lớp Độ phức tạp trên lớp Độ phức tạp trên lớp Độ phức tạp trên lớp Độ phức tạp trên lớp Độ phức tạp trên lớp Độ phức tạp trên lớp Độ phức tạp trên lớp Độ phức tạ p trên lớp Độ phức tạp trên lớp Độ phức tạp trên lớp Độ phức tạp trên lớp Độ phức tạp trên lớp Độ phức tạp trên $ ớp Độ phức tạp trên lớp Độ phức tạp trên lớp Độ phức tạp trên lớp Độ phức tạp trên lớp Độ phức tạp trên lớp Độ p$ ức tạp trên lớp Độ phức tạp trên lớp Độ phức tạp trên lớp Độ phức tạp trên lớp Độ phức tạp trên lớp Độ phức tạp t rên lớp Độ phức tạp trên lớp Độ phức tạp trên lớp Độ phức tạp trên lớp Độ phức tạp trên lớp Độ phức tạp trên lớp Độ phức tạp trên lớp Độ phức tạp trên lớp Độ phức tạp trên lớp Độ phức tạp trên lớp Độ phức tạp trên lớp Độ phức tạp trên lớp Độ phức tạp trên lớp Độ phức tạp trên lớp Độ phức tạp trên lớp Độ phức tạp trên lớp Độ phức tạp trên lớp Độ phức tạp trên lớp Độ phức tạp trên lớp Độ phức tạp trên lớp Độ phức tạp trên lớp Độ phức tạp trên lớp Độ phức tạp trên lớp Độ phức tạp trên lớp Độ phức tạp trên lớp Độ phức tạp trên lớp Độ phức tạp trên lớp Độ phức tạp\""
   ]
  },
  {
   "cell_type": "code",
   "execution_count": 95,
   "metadata": {},
   "outputs": [],
   "source": [
    "import re"
   ]
  },
  {
   "cell_type": "code",
   "execution_count": 39,
   "metadata": {},
   "outputs": [],
   "source": [
    "def repeated_substring(s: str):\n",
    "        t = s + s\n",
    "        print(s)\n",
    "        if s in t[1:-1]:\n",
    "            return True\n",
    "        return False"
   ]
  },
  {
   "cell_type": "code",
   "execution_count": 100,
   "metadata": {},
   "outputs": [],
   "source": [
    "def repeated_substring(s: str):\n",
    "        n = len(s)\n",
    "        temp = s.replace(\"(\", \"\")\n",
    "        temp = temp.replace(\")\", \"\")\n",
    "        for i in range(10, n // 2 + 1):\n",
    "            pattern = temp[:i]\n",
    "            matches = [match for match in re.finditer(pattern, temp)]\n",
    "            if len(matches) >= 15:\n",
    "                return True\n",
    "        for i in range(n // 2 + 11, n):\n",
    "            pattern = temp[n // 2 + 1:i]\n",
    "            print(pattern)\n",
    "            matches = [match for match in re.finditer(pattern, temp)]\n",
    "            if len(matches) >= 15:\n",
    "                return True\n",
    "        return False"
   ]
  },
  {
   "cell_type": "code",
   "execution_count": 101,
   "metadata": {},
   "outputs": [
    {
     "name": "stdout",
     "output_type": "stream",
     "text": [
      "trên lớp Đ\n"
     ]
    },
    {
     "data": {
      "text/plain": [
       "True"
      ]
     },
     "execution_count": 101,
     "metadata": {},
     "output_type": "execute_result"
    }
   ],
   "source": [
    "repeated_substring(s)"
   ]
  },
  {
   "cell_type": "code",
   "execution_count": null,
   "metadata": {},
   "outputs": [],
   "source": []
  }
 ],
 "metadata": {
  "kernelspec": {
   "display_name": "Python 3",
   "language": "python",
   "name": "python3"
  },
  "language_info": {
   "codemirror_mode": {
    "name": "ipython",
    "version": 3
   },
   "file_extension": ".py",
   "mimetype": "text/x-python",
   "name": "python",
   "nbconvert_exporter": "python",
   "pygments_lexer": "ipython3",
   "version": "3.7.7"
  }
 },
 "nbformat": 4,
 "nbformat_minor": 4
}
